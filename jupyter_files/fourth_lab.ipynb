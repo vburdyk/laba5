{
 "cells": [
  {
   "cell_type": "code",
   "execution_count": 1,
   "metadata": {
    "executionInfo": {
     "elapsed": 2413,
     "status": "ok",
     "timestamp": 1678573498959,
     "user": {
      "displayName": "Ольга Нарушинська",
      "userId": "17109802701742785659"
     },
     "user_tz": -120
    },
    "id": "yEititKbxrYC"
   },
   "outputs": [],
   "source": [
    "import pandas as pd\n",
    "import numpy as np\n",
    "import matplotlib.pyplot as plt\n",
    "import seaborn as sns\n",
    "from scipy import stats\n",
    "from sklearn.ensemble import RandomForestClassifier\n",
    "from sklearn.model_selection import GridSearchCV\n",
    "from sklearn.naive_bayes import GaussianNB\n",
    "from sklearn.linear_model import LogisticRegression\n",
    "from sklearn.linear_model import SGDClassifier\n",
    "from sklearn.neighbors import KNeighborsClassifier\n",
    "from sklearn import metrics\n",
    "from sklearn.model_selection import train_test_split"
   ]
  },
  {
   "cell_type": "code",
   "execution_count": 2,
   "metadata": {
    "executionInfo": {
     "elapsed": 258,
     "status": "ok",
     "timestamp": 1678573537081,
     "user": {
      "displayName": "Ольга Нарушинська",
      "userId": "17109802701742785659"
     },
     "user_tz": -120
    },
    "id": "NaeCBRuSxrYD"
   },
   "outputs": [],
   "source": [
    "import warnings\n",
    "warnings.simplefilter('ignore')"
   ]
  },
  {
   "cell_type": "code",
   "execution_count": 3,
   "metadata": {
    "executionInfo": {
     "elapsed": 2,
     "status": "ok",
     "timestamp": 1678573537338,
     "user": {
      "displayName": "Ольга Нарушинська",
      "userId": "17109802701742785659"
     },
     "user_tz": -120
    },
    "id": "8YBDj5i5xrYE"
   },
   "outputs": [],
   "source": [
    "pd.set_option('display.max_columns', 500)\n",
    "pd.set_option('display.max_rows', 500)"
   ]
  },
  {
   "cell_type": "markdown",
   "metadata": {
    "id": "wa2XpH6YxrYE"
   },
   "source": [
    "### Read the dataset for churn "
   ]
  },
  {
   "cell_type": "code",
   "execution_count": 4,
   "metadata": {
    "executionInfo": {
     "elapsed": 1892,
     "status": "ok",
     "timestamp": 1678573544362,
     "user": {
      "displayName": "Ольга Нарушинська",
      "userId": "17109802701742785659"
     },
     "user_tz": -120
    },
    "id": "IN74PgEDxrYF"
   },
   "outputs": [],
   "source": [
    "df = pd.read_csv(\"new_variant_1.csv\")"
   ]
  },
  {
   "cell_type": "markdown",
   "metadata": {
    "id": "nuTC_CPWxrYJ"
   },
   "source": [
    "# Model tuning\n"
   ]
  },
  {
   "cell_type": "markdown",
   "metadata": {
    "id": "A_zfqEmgxrYJ",
    "jp-MarkdownHeadingCollapsed": true
   },
   "source": [
    "#### Parameters vs Hyperparameters\n",
    "Параметр можна вважати внутрішнім або інтерним до моделі, який можна отримати після того, як модель навчилася на даних. Прикладами параметрів є коефіцієнти регресії в лінійній регресії, опорні вектори в методах опорних векторів і ваги в нейронних мережах.\n",
    "\n",
    "Гіперпараметр можна вважати зовнішнім або екстраним до моделі, який може бути заданий довільно практиком. Прикладами гіперпараметрів є значення k в k-найближчих сусідах, кількість дерев і максимальна кількість ознак у випадковому лісі, швидкість навчання та моментум у нейронних мережах, параметри C і gamma в методах опорних векторів.\n",
    "\n",
    "#### Налаштування гіперпараметрів\n",
    "Оскільки немає універсально найкращих гіперпараметрів для будь-якої проблеми, гіперпараметри зазвичай встановлюються на значення за замовчуванням. Однак оптимальний набір гіперпараметрів можна отримати за допомогою ручного емпіричного (методом спроб і помилок) пошуку гіперпараметрів або в автоматичний спосіб за допомогою оптимізаційного алгоритму для максимізації функції придатності.\n",
    "\n",
    "Два поширені методи налаштування гіперпараметрів включають grid search (пошук по сітці) та random search (випадковий пошук). Як випливає з назви, пошук по сітці передбачає створення сітки можливих значень гіперпараметрів, для яких моделі поступово будуються для всіх комбінацій цих гіперпараметрів у брутальному режимі. У випадковому пошуку не всі комбінації гіперпараметрів використовуються, але замість цього на кожній ітерації використовується випадкова комбінація гіперпараметрів."
   ]
  },
  {
   "cell_type": "markdown",
   "metadata": {
    "id": "M0OIcJ59xrYK"
   },
   "source": [
    "#### Define target and features columns"
   ]
  },
  {
   "cell_type": "code",
   "execution_count": 5,
   "metadata": {
    "executionInfo": {
     "elapsed": 2,
     "status": "ok",
     "timestamp": 1678573553290,
     "user": {
      "displayName": "Ольга Нарушинська",
      "userId": "17109802701742785659"
     },
     "user_tz": -120
    },
    "id": "eAeQyeQdxrYK"
   },
   "outputs": [],
   "source": [
    "y_column = ['Status'] # target variable\n",
    "X_columns = ['loan_limit', 'Gender', 'approv_in_adv', 'loan_type', 'loan_purpose', 'Credit_Worthiness', 'open_credit', \n",
    "             'business_or_commercial', 'loan_amount', 'rate_of_interest', 'Interest_rate_spread', 'Upfront_charges', 'term', \n",
    "             'Neg_ammortization', 'interest_only', 'lump_sum_payment', 'property_value', 'construction_type', \n",
    "             'occupancy_type', 'Secured_by', 'total_units', 'income', 'credit_type', 'Credit_Score', 'co-applicant_credit_type', \n",
    "             'age', 'submission_of_application', 'LTV', 'Region', 'Security_Type',]\n",
    "\n",
    "X = df[X_columns]\n",
    "y = df[y_column]"
   ]
  },
  {
   "cell_type": "code",
   "execution_count": 6,
   "metadata": {
    "colab": {
     "base_uri": "https://localhost:8080/"
    },
    "executionInfo": {
     "elapsed": 2,
     "status": "ok",
     "timestamp": 1678573553551,
     "user": {
      "displayName": "Ольга Нарушинська",
      "userId": "17109802701742785659"
     },
     "user_tz": -120
    },
    "id": "7DKGSApmxrYK",
    "outputId": "4b869138-2fe2-4c28-ec48-3053fef5ce49"
   },
   "outputs": [
    {
     "name": "stdout",
     "output_type": "stream",
     "text": [
      "(115669, 30)\n",
      "(115669, 1)\n",
      "(28918, 30)\n",
      "(28918, 1)\n"
     ]
    }
   ],
   "source": [
    "# Let's say we want to split the data in 80:10:10 for train:valid:test dataset\n",
    "# In the first step we will split the data in training and remaining dataset\n",
    "X_train, X_test, y_train, y_test = train_test_split(X,y, train_size=0.8)\n",
    "\n",
    "print(X_train.shape)\n",
    "print(y_train.shape)\n",
    "print(X_test.shape)\n",
    "print(y_test.shape)\n"
   ]
  },
  {
   "cell_type": "markdown",
   "metadata": {
    "id": "qfUT_7BYxrYL"
   },
   "source": [
    "#### Building a Baseline LogisticRegression Model"
   ]
  },
  {
   "cell_type": "code",
   "execution_count": 7,
   "metadata": {
    "executionInfo": {
     "elapsed": 2,
     "status": "ok",
     "timestamp": 1678573554785,
     "user": {
      "displayName": "Ольга Нарушинська",
      "userId": "17109802701742785659"
     },
     "user_tz": -120
    },
    "id": "3vEex5VnxrYL"
   },
   "outputs": [],
   "source": [
    "lr = LogisticRegression(class_weight='balanced')"
   ]
  },
  {
   "cell_type": "code",
   "execution_count": 8,
   "metadata": {
    "executionInfo": {
     "elapsed": 9842,
     "status": "ok",
     "timestamp": 1678573565325,
     "user": {
      "displayName": "Ольга Нарушинська",
      "userId": "17109802701742785659"
     },
     "user_tz": -120
    },
    "id": "CStIbaTqxrYL"
   },
   "outputs": [],
   "source": [
    "lr.fit(X_train, y_train)\n",
    "y_pred = lr.predict(X_test)"
   ]
  },
  {
   "cell_type": "code",
   "execution_count": 9,
   "metadata": {
    "colab": {
     "base_uri": "https://localhost:8080/"
    },
    "executionInfo": {
     "elapsed": 10,
     "status": "ok",
     "timestamp": 1678573565326,
     "user": {
      "displayName": "Ольга Нарушинська",
      "userId": "17109802701742785659"
     },
     "user_tz": -120
    },
    "id": "VWAmRCUmxrYL",
    "outputId": "281e51df-95cb-43ec-e102-eded445530cb"
   },
   "outputs": [
    {
     "name": "stdout",
     "output_type": "stream",
     "text": [
      "test set metrics: \n",
      "               precision    recall  f1-score   support\n",
      "\n",
      "          no       0.86      0.66      0.74     21887\n",
      "         yes       0.38      0.66      0.48      7031\n",
      "\n",
      "    accuracy                           0.66     28918\n",
      "   macro avg       0.62      0.66      0.61     28918\n",
      "weighted avg       0.74      0.66      0.68     28918\n",
      "\n"
     ]
    }
   ],
   "source": [
    "print('test set metrics: \\n', metrics.classification_report(y_test, y_pred))"
   ]
  },
  {
   "cell_type": "code",
   "execution_count": 10,
   "metadata": {
    "colab": {
     "base_uri": "https://localhost:8080/"
    },
    "executionInfo": {
     "elapsed": 9,
     "status": "ok",
     "timestamp": 1678573565326,
     "user": {
      "displayName": "Ольга Нарушинська",
      "userId": "17109802701742785659"
     },
     "user_tz": -120
    },
    "id": "tRgdPYUbxrYL",
    "outputId": "3931fef3-a0fe-43ec-a6f3-ca86cb8863f9",
    "scrolled": true
   },
   "outputs": [
    {
     "data": {
      "text/plain": [
       "{'C': 1.0,\n",
       " 'class_weight': 'balanced',\n",
       " 'dual': False,\n",
       " 'fit_intercept': True,\n",
       " 'intercept_scaling': 1,\n",
       " 'l1_ratio': None,\n",
       " 'max_iter': 100,\n",
       " 'multi_class': 'deprecated',\n",
       " 'n_jobs': None,\n",
       " 'penalty': 'l2',\n",
       " 'random_state': None,\n",
       " 'solver': 'lbfgs',\n",
       " 'tol': 0.0001,\n",
       " 'verbose': 0,\n",
       " 'warm_start': False}"
      ]
     },
     "execution_count": 10,
     "metadata": {},
     "output_type": "execute_result"
    }
   ],
   "source": [
    "lr.get_params()"
   ]
  },
  {
   "cell_type": "markdown",
   "metadata": {
    "id": "yd-s8zgTxrYL"
   },
   "source": [
    "#### Hyperparameter Tuning\n",
    "Now we will be performing the tuning of hyperparameters of the LogisticRegression model. "
   ]
  },
  {
   "cell_type": "code",
   "execution_count": 13,
   "metadata": {
    "colab": {
     "base_uri": "https://localhost:8080/"
    },
    "executionInfo": {
     "elapsed": 3637361,
     "status": "ok",
     "timestamp": 1678577202681,
     "user": {
      "displayName": "Ольга Нарушинська",
      "userId": "17109802701742785659"
     },
     "user_tz": -120
    },
    "id": "-qdnkhd-xrYM",
    "outputId": "afd05804-26cc-4dfd-e028-78767fb086b2",
    "scrolled": true
   },
   "outputs": [
    {
     "name": "stdout",
     "output_type": "stream",
     "text": [
      "Fitting 5 folds for each of 8 candidates, totalling 40 fits\n",
      "[CV 1/5] END C=0.1, class_weight=balanced, max_iter=100, penalty=l1, solver=liblinear;, score=(train=0.688, test=0.686) total time=  44.6s\n",
      "[CV 2/5] END C=0.1, class_weight=balanced, max_iter=100, penalty=l1, solver=liblinear;, score=(train=0.688, test=0.686) total time=  26.7s\n",
      "[CV 3/5] END C=0.1, class_weight=balanced, max_iter=100, penalty=l1, solver=liblinear;, score=(train=0.689, test=0.685) total time=  21.0s\n",
      "[CV 4/5] END C=0.1, class_weight=balanced, max_iter=100, penalty=l1, solver=liblinear;, score=(train=0.687, test=0.690) total time=  13.5s\n",
      "[CV 5/5] END C=0.1, class_weight=balanced, max_iter=100, penalty=l1, solver=liblinear;, score=(train=0.688, test=0.692) total time=  26.5s\n",
      "[CV 1/5] END C=0.1, class_weight=balanced, max_iter=100, penalty=l1, solver=saga;, score=(train=0.653, test=0.645) total time=   5.7s\n",
      "[CV 2/5] END C=0.1, class_weight=balanced, max_iter=100, penalty=l1, solver=saga;, score=(train=0.651, test=0.655) total time=   5.4s\n",
      "[CV 3/5] END C=0.1, class_weight=balanced, max_iter=100, penalty=l1, solver=saga;, score=(train=0.652, test=0.648) total time=   6.6s\n",
      "[CV 4/5] END C=0.1, class_weight=balanced, max_iter=100, penalty=l1, solver=saga;, score=(train=0.651, test=0.651) total time=   7.0s\n",
      "[CV 5/5] END C=0.1, class_weight=balanced, max_iter=100, penalty=l1, solver=saga;, score=(train=0.651, test=0.658) total time=   6.4s\n",
      "[CV 1/5] END C=0.1, class_weight=balanced, max_iter=200, penalty=l1, solver=liblinear;, score=(train=0.688, test=0.686) total time=  27.7s\n",
      "[CV 2/5] END C=0.1, class_weight=balanced, max_iter=200, penalty=l1, solver=liblinear;, score=(train=0.688, test=0.687) total time=  26.3s\n",
      "[CV 3/5] END C=0.1, class_weight=balanced, max_iter=200, penalty=l1, solver=liblinear;, score=(train=0.689, test=0.685) total time=  24.7s\n",
      "[CV 4/5] END C=0.1, class_weight=balanced, max_iter=200, penalty=l1, solver=liblinear;, score=(train=0.687, test=0.690) total time=  20.0s\n",
      "[CV 5/5] END C=0.1, class_weight=balanced, max_iter=200, penalty=l1, solver=liblinear;, score=(train=0.688, test=0.692) total time=  18.9s\n",
      "[CV 1/5] END C=0.1, class_weight=balanced, max_iter=200, penalty=l1, solver=saga;, score=(train=0.665, test=0.658) total time=   7.6s\n",
      "[CV 2/5] END C=0.1, class_weight=balanced, max_iter=200, penalty=l1, solver=saga;, score=(train=0.663, test=0.666) total time=   7.8s\n",
      "[CV 3/5] END C=0.1, class_weight=balanced, max_iter=200, penalty=l1, solver=saga;, score=(train=0.665, test=0.660) total time=   7.6s\n",
      "[CV 4/5] END C=0.1, class_weight=balanced, max_iter=200, penalty=l1, solver=saga;, score=(train=0.663, test=0.666) total time=   7.8s\n",
      "[CV 5/5] END C=0.1, class_weight=balanced, max_iter=200, penalty=l1, solver=saga;, score=(train=0.663, test=0.667) total time=   7.6s\n",
      "[CV 1/5] END C=1, class_weight=balanced, max_iter=100, penalty=l1, solver=liblinear;, score=(train=0.688, test=0.687) total time=  22.0s\n",
      "[CV 2/5] END C=1, class_weight=balanced, max_iter=100, penalty=l1, solver=liblinear;, score=(train=0.689, test=0.687) total time=  19.3s\n",
      "[CV 3/5] END C=1, class_weight=balanced, max_iter=100, penalty=l1, solver=liblinear;, score=(train=0.690, test=0.685) total time=  11.5s\n",
      "[CV 4/5] END C=1, class_weight=balanced, max_iter=100, penalty=l1, solver=liblinear;, score=(train=0.688, test=0.690) total time=   7.1s\n",
      "[CV 5/5] END C=1, class_weight=balanced, max_iter=100, penalty=l1, solver=liblinear;, score=(train=0.688, test=0.692) total time=  49.0s\n",
      "[CV 1/5] END C=1, class_weight=balanced, max_iter=100, penalty=l1, solver=saga;, score=(train=0.653, test=0.644) total time=   7.0s\n",
      "[CV 2/5] END C=1, class_weight=balanced, max_iter=100, penalty=l1, solver=saga;, score=(train=0.651, test=0.655) total time=   5.7s\n",
      "[CV 3/5] END C=1, class_weight=balanced, max_iter=100, penalty=l1, solver=saga;, score=(train=0.653, test=0.648) total time=   4.2s\n",
      "[CV 4/5] END C=1, class_weight=balanced, max_iter=100, penalty=l1, solver=saga;, score=(train=0.651, test=0.651) total time=   4.2s\n",
      "[CV 5/5] END C=1, class_weight=balanced, max_iter=100, penalty=l1, solver=saga;, score=(train=0.650, test=0.658) total time=   4.2s\n",
      "[CV 1/5] END C=1, class_weight=balanced, max_iter=200, penalty=l1, solver=liblinear;, score=(train=0.688, test=0.687) total time=  14.7s\n",
      "[CV 2/5] END C=1, class_weight=balanced, max_iter=200, penalty=l1, solver=liblinear;, score=(train=0.689, test=0.687) total time= 1.7min\n",
      "[CV 3/5] END C=1, class_weight=balanced, max_iter=200, penalty=l1, solver=liblinear;, score=(train=0.689, test=0.685) total time= 2.2min\n",
      "[CV 4/5] END C=1, class_weight=balanced, max_iter=200, penalty=l1, solver=liblinear;, score=(train=0.688, test=0.690) total time= 2.0min\n",
      "[CV 5/5] END C=1, class_weight=balanced, max_iter=200, penalty=l1, solver=liblinear;, score=(train=0.688, test=0.692) total time= 1.8min\n",
      "[CV 1/5] END C=1, class_weight=balanced, max_iter=200, penalty=l1, solver=saga;, score=(train=0.665, test=0.658) total time=   9.3s\n",
      "[CV 2/5] END C=1, class_weight=balanced, max_iter=200, penalty=l1, solver=saga;, score=(train=0.664, test=0.666) total time=   8.5s\n",
      "[CV 3/5] END C=1, class_weight=balanced, max_iter=200, penalty=l1, solver=saga;, score=(train=0.664, test=0.661) total time=   8.8s\n",
      "[CV 4/5] END C=1, class_weight=balanced, max_iter=200, penalty=l1, solver=saga;, score=(train=0.663, test=0.667) total time=   9.4s\n",
      "[CV 5/5] END C=1, class_weight=balanced, max_iter=200, penalty=l1, solver=saga;, score=(train=0.664, test=0.668) total time=   8.2s\n",
      "The best parameters are {'C': 1, 'class_weight': 'balanced', 'max_iter': 200, 'penalty': 'l1', 'solver': 'liblinear'} with a score of 0.69\n",
      "CPU times: total: 16min 17s\n",
      "Wall time: 16min 39s\n"
     ]
    }
   ],
   "source": [
    "%%time\n",
    "# Create the random grid\n",
    "param_grid = {\n",
    "    'penalty': ['l1', ],\n",
    "    'C': [0.1, 1],\n",
    "    'solver': ['liblinear', 'saga'],\n",
    "    'max_iter': [100, 200,],\n",
    "    'class_weight': ['balanced'],\n",
    "}\n",
    "\n",
    "\n",
    "lr = LogisticRegression(class_weight='balanced')\n",
    "\n",
    "grid = GridSearchCV(estimator=lr, \n",
    "                    param_grid=param_grid, \n",
    "                    scoring='accuracy', \n",
    "                    cv=5,\n",
    "                    verbose=3,\n",
    "                    return_train_score=True)\n",
    "\n",
    "grid.fit(X_train, y_train)\n",
    "\n",
    "print(\"The best parameters are %s with a score of %0.2f\"\n",
    "      % (grid.best_params_, grid.best_score_))"
   ]
  },
  {
   "cell_type": "code",
   "execution_count": 14,
   "metadata": {
    "colab": {
     "base_uri": "https://localhost:8080/",
     "height": 1000
    },
    "executionInfo": {
     "elapsed": 20,
     "status": "ok",
     "timestamp": 1678577202682,
     "user": {
      "displayName": "Ольга Нарушинська",
      "userId": "17109802701742785659"
     },
     "user_tz": -120
    },
    "id": "OHmrkMMsxrYN",
    "outputId": "3381c6c5-5cf2-40b2-b411-1665622e00d3",
    "scrolled": true
   },
   "outputs": [
    {
     "data": {
      "text/html": [
       "<div>\n",
       "<style scoped>\n",
       "    .dataframe tbody tr th:only-of-type {\n",
       "        vertical-align: middle;\n",
       "    }\n",
       "\n",
       "    .dataframe tbody tr th {\n",
       "        vertical-align: top;\n",
       "    }\n",
       "\n",
       "    .dataframe thead th {\n",
       "        text-align: right;\n",
       "    }\n",
       "</style>\n",
       "<table border=\"1\" class=\"dataframe\">\n",
       "  <thead>\n",
       "    <tr style=\"text-align: right;\">\n",
       "      <th></th>\n",
       "      <th>C</th>\n",
       "      <th>class_weight</th>\n",
       "      <th>max_iter</th>\n",
       "      <th>penalty</th>\n",
       "      <th>solver</th>\n",
       "      <th>precision</th>\n",
       "    </tr>\n",
       "  </thead>\n",
       "  <tbody>\n",
       "    <tr>\n",
       "      <th>0</th>\n",
       "      <td>0.1</td>\n",
       "      <td>balanced</td>\n",
       "      <td>100</td>\n",
       "      <td>l1</td>\n",
       "      <td>liblinear</td>\n",
       "      <td>0.687851</td>\n",
       "    </tr>\n",
       "    <tr>\n",
       "      <th>1</th>\n",
       "      <td>0.1</td>\n",
       "      <td>balanced</td>\n",
       "      <td>100</td>\n",
       "      <td>l1</td>\n",
       "      <td>saga</td>\n",
       "      <td>0.651151</td>\n",
       "    </tr>\n",
       "    <tr>\n",
       "      <th>2</th>\n",
       "      <td>0.1</td>\n",
       "      <td>balanced</td>\n",
       "      <td>200</td>\n",
       "      <td>l1</td>\n",
       "      <td>liblinear</td>\n",
       "      <td>0.688050</td>\n",
       "    </tr>\n",
       "    <tr>\n",
       "      <th>3</th>\n",
       "      <td>0.1</td>\n",
       "      <td>balanced</td>\n",
       "      <td>200</td>\n",
       "      <td>l1</td>\n",
       "      <td>saga</td>\n",
       "      <td>0.663523</td>\n",
       "    </tr>\n",
       "    <tr>\n",
       "      <th>4</th>\n",
       "      <td>1.0</td>\n",
       "      <td>balanced</td>\n",
       "      <td>100</td>\n",
       "      <td>l1</td>\n",
       "      <td>liblinear</td>\n",
       "      <td>0.688136</td>\n",
       "    </tr>\n",
       "    <tr>\n",
       "      <th>5</th>\n",
       "      <td>1.0</td>\n",
       "      <td>balanced</td>\n",
       "      <td>100</td>\n",
       "      <td>l1</td>\n",
       "      <td>saga</td>\n",
       "      <td>0.650944</td>\n",
       "    </tr>\n",
       "    <tr>\n",
       "      <th>6</th>\n",
       "      <td>1.0</td>\n",
       "      <td>balanced</td>\n",
       "      <td>200</td>\n",
       "      <td>l1</td>\n",
       "      <td>liblinear</td>\n",
       "      <td>0.688145</td>\n",
       "    </tr>\n",
       "    <tr>\n",
       "      <th>7</th>\n",
       "      <td>1.0</td>\n",
       "      <td>balanced</td>\n",
       "      <td>200</td>\n",
       "      <td>l1</td>\n",
       "      <td>saga</td>\n",
       "      <td>0.663912</td>\n",
       "    </tr>\n",
       "  </tbody>\n",
       "</table>\n",
       "</div>"
      ],
      "text/plain": [
       "     C class_weight  max_iter penalty     solver  precision\n",
       "0  0.1     balanced       100      l1  liblinear   0.687851\n",
       "1  0.1     balanced       100      l1       saga   0.651151\n",
       "2  0.1     balanced       200      l1  liblinear   0.688050\n",
       "3  0.1     balanced       200      l1       saga   0.663523\n",
       "4  1.0     balanced       100      l1  liblinear   0.688136\n",
       "5  1.0     balanced       100      l1       saga   0.650944\n",
       "6  1.0     balanced       200      l1  liblinear   0.688145\n",
       "7  1.0     balanced       200      l1       saga   0.663912"
      ]
     },
     "execution_count": 14,
     "metadata": {},
     "output_type": "execute_result"
    }
   ],
   "source": [
    "grid_results = pd.concat([pd.DataFrame(grid.cv_results_[\"params\"]),\n",
    "                          pd.DataFrame(grid.cv_results_[\"mean_test_score\"], \n",
    "                          columns=[\"precision\"])],\n",
    "                          axis=1)\n",
    "\n",
    "grid_results"
   ]
  },
  {
   "cell_type": "code",
   "execution_count": 15,
   "metadata": {
    "colab": {
     "base_uri": "https://localhost:8080/"
    },
    "executionInfo": {
     "elapsed": 11,
     "status": "ok",
     "timestamp": 1678577202682,
     "user": {
      "displayName": "Ольга Нарушинська",
      "userId": "17109802701742785659"
     },
     "user_tz": -120
    },
    "id": "FDnU82oSxrYN",
    "outputId": "92d775d7-d5ed-41a4-ea80-2b4515de4d72"
   },
   "outputs": [
    {
     "data": {
      "text/plain": [
       "Index(['C', 'class_weight', 'max_iter', 'penalty', 'solver', 'precision'], dtype='object')"
      ]
     },
     "execution_count": 15,
     "metadata": {},
     "output_type": "execute_result"
    }
   ],
   "source": [
    "grid_results.columns"
   ]
  }
 ],
 "metadata": {
  "colab": {
   "provenance": []
  },
  "kernelspec": {
   "display_name": "Python 3 (ipykernel)",
   "language": "python",
   "name": "python3"
  },
  "language_info": {
   "codemirror_mode": {
    "name": "ipython",
    "version": 3
   },
   "file_extension": ".py",
   "mimetype": "text/x-python",
   "name": "python",
   "nbconvert_exporter": "python",
   "pygments_lexer": "ipython3",
   "version": "3.12.6"
  },
  "vscode": {
   "interpreter": {
    "hash": "7172106abc92638029cd8423ee47f98336618e2f42ec4b056b806f415585df73"
   }
  }
 },
 "nbformat": 4,
 "nbformat_minor": 4
}
