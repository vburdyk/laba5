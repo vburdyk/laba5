{
 "cells": [
  {
   "cell_type": "code",
   "execution_count": 1,
   "metadata": {
    "executionInfo": {
     "elapsed": 335,
     "status": "ok",
     "timestamp": 1678578097515,
     "user": {
      "displayName": "Ольга Нарушинська",
      "userId": "17109802701742785659"
     },
     "user_tz": -120
    },
    "id": "blrnLdArwUA5"
   },
   "outputs": [],
   "source": [
    "import pandas as pd\n",
    "import numpy as np\n",
    "import matplotlib.pyplot as plt\n",
    "import seaborn as sns\n",
    "from scipy import stats\n",
    "from sklearn.ensemble import RandomForestClassifier\n",
    "from sklearn.linear_model import LogisticRegression\n",
    "from sklearn.neighbors import KNeighborsClassifier\n",
    "from sklearn import metrics\n",
    "from sklearn.model_selection import train_test_split"
   ]
  },
  {
   "cell_type": "code",
   "execution_count": 2,
   "metadata": {
    "executionInfo": {
     "elapsed": 3,
     "status": "ok",
     "timestamp": 1678578099517,
     "user": {
      "displayName": "Ольга Нарушинська",
      "userId": "17109802701742785659"
     },
     "user_tz": -120
    },
    "id": "VtRzMlMswUA7"
   },
   "outputs": [],
   "source": [
    "import warnings\n",
    "warnings.simplefilter('ignore')"
   ]
  },
  {
   "cell_type": "code",
   "execution_count": 3,
   "metadata": {
    "executionInfo": {
     "elapsed": 4,
     "status": "ok",
     "timestamp": 1678578099518,
     "user": {
      "displayName": "Ольга Нарушинська",
      "userId": "17109802701742785659"
     },
     "user_tz": -120
    },
    "id": "SUeHgUDTwUA7"
   },
   "outputs": [],
   "source": [
    "pd.set_option('display.max_columns', 500)\n",
    "pd.set_option('display.max_rows', 500)"
   ]
  },
  {
   "cell_type": "markdown",
   "metadata": {
    "id": "Te8s5u4KwUA8"
   },
   "source": [
    "### Read the dataset for churn "
   ]
  },
  {
   "cell_type": "code",
   "execution_count": 4,
   "metadata": {
    "executionInfo": {
     "elapsed": 455,
     "status": "ok",
     "timestamp": 1678578100973,
     "user": {
      "displayName": "Ольга Нарушинська",
      "userId": "17109802701742785659"
     },
     "user_tz": -120
    },
    "id": "D9jl8L4AwUA9"
   },
   "outputs": [],
   "source": [
    "df = pd.read_csv(\"new_variant_1.csv\")"
   ]
  },
  {
   "cell_type": "code",
   "execution_count": 5,
   "metadata": {},
   "outputs": [],
   "source": [
    "df['Status'] = df['Status'].apply(lambda x: 1 if x == 'yes' else 0)"
   ]
  },
  {
   "cell_type": "markdown",
   "metadata": {
    "id": "V9h9tXr0wUBD"
   },
   "source": [
    "# Modelling and Validation"
   ]
  },
  {
   "cell_type": "markdown",
   "metadata": {
    "id": "Qx1cnxlKwUBD"
   },
   "source": [
    "#### Define target and features columns"
   ]
  },
  {
   "cell_type": "code",
   "execution_count": 6,
   "metadata": {
    "executionInfo": {
     "elapsed": 428,
     "status": "ok",
     "timestamp": 1678578113264,
     "user": {
      "displayName": "Ольга Нарушинська",
      "userId": "17109802701742785659"
     },
     "user_tz": -120
    },
    "id": "m8ksqtU6wUBD"
   },
   "outputs": [],
   "source": [
    "y_column = ['Status'] # target variable\n",
    "X_columns = ['loan_limit', 'Gender', 'approv_in_adv', 'loan_type', 'loan_purpose', 'Credit_Worthiness', 'open_credit', \n",
    "             'business_or_commercial', 'loan_amount', 'rate_of_interest', 'Interest_rate_spread', 'Upfront_charges', 'term', \n",
    "             'Neg_ammortization', 'interest_only', 'lump_sum_payment', 'property_value', 'construction_type', \n",
    "             'occupancy_type', 'Secured_by', 'total_units', 'income', 'credit_type', 'Credit_Score', 'co-applicant_credit_type', \n",
    "             'age', 'submission_of_application', 'LTV', 'Region', 'Security_Type',]\n",
    "\n",
    "X = df[X_columns]\n",
    "y = df[y_column]"
   ]
  },
  {
   "cell_type": "markdown",
   "metadata": {
    "id": "DA_XwfpHwUBD"
   },
   "source": [
    "### Definition of Train-Valid-Test Split\n",
    "Train-Valid-Test split is a technique to evaluate the performance of your machine learning model — classification or regression alike. You take a given dataset and divide it into three subsets. A brief description of the role of each of these datasets is below.\n",
    "#### Train Dataset\n",
    "Set of data used for learning (by the model), that is, to fit the parameters to the machine learning model\n",
    "#### Valid Dataset\n",
    "Set of data used to provide an unbiased evaluation of a model fitted on the training dataset while tuning model hyperparameters.\n",
    "Also play a role in other forms of model preparation, such as feature selection, threshold cut-off selection.\n",
    "#### Test Dataset\n",
    "Set of data used to provide an unbiased evaluation of a final model fitted on the training dataset."
   ]
  },
  {
   "cell_type": "markdown",
   "metadata": {
    "id": "hm7aKfyJwUBF"
   },
   "source": [
    "A validation dataset is a sample of data held back from training your model that is used to give an estimate of model skill while tuning model’s hyperparameters.\n",
    "\n",
    "The validation dataset is different from the test dataset that is also held back from the training of the model, but is instead used to give an unbiased estimate of the skill of the final tuned model when comparing or selecting between final models."
   ]
  },
  {
   "cell_type": "code",
   "execution_count": 7,
   "metadata": {
    "colab": {
     "base_uri": "https://localhost:8080/"
    },
    "executionInfo": {
     "elapsed": 328,
     "status": "ok",
     "timestamp": 1678578119840,
     "user": {
      "displayName": "Ольга Нарушинська",
      "userId": "17109802701742785659"
     },
     "user_tz": -120
    },
    "id": "xIgkaiLQwUBG",
    "outputId": "2b929ae7-93f7-4977-e6e9-8403d60fda14"
   },
   "outputs": [
    {
     "name": "stdout",
     "output_type": "stream",
     "text": [
      "(115669, 30)\n",
      "(115669, 1)\n",
      "(14459, 30)\n",
      "(14459, 1)\n",
      "(14459, 30)\n",
      "(14459, 1)\n"
     ]
    }
   ],
   "source": [
    "# Let's say we want to split the data in 80:10:10 for train:valid:test dataset\n",
    "# In the first step we will split the data in training and remaining dataset\n",
    "X_train, X_rem, y_train, y_rem = train_test_split(X,y, train_size=0.8)\n",
    "\n",
    "# Now since we want the valid and test size to be equal (10% each of overall data). \n",
    "# we have to define valid_size=0.5 (that is 50% of remaining data)\n",
    "X_valid, X_test, y_valid, y_test = train_test_split(X_rem,y_rem, test_size=0.5)\n",
    "\n",
    "print(X_train.shape)\n",
    "print(y_train.shape)\n",
    "print(X_valid.shape)\n",
    "print(y_valid.shape)\n",
    "print(X_test.shape)\n",
    "print(y_test.shape)\n"
   ]
  },
  {
   "cell_type": "code",
   "execution_count": 8,
   "metadata": {
    "executionInfo": {
     "elapsed": 325,
     "status": "ok",
     "timestamp": 1678573275741,
     "user": {
      "displayName": "Ольга Нарушинська",
      "userId": "17109802701742785659"
     },
     "user_tz": -120
    },
    "id": "IqqmKJmLw2Ra"
   },
   "outputs": [],
   "source": [
    "models = { 'LogisticRegression' : LogisticRegression(class_weight='balanced'), \n",
    "          'KNeighborsClassifier' : KNeighborsClassifier(weights='distance'),\n",
    "         }"
   ]
  },
  {
   "cell_type": "code",
   "execution_count": 9,
   "metadata": {
    "colab": {
     "base_uri": "https://localhost:8080/"
    },
    "executionInfo": {
     "elapsed": 13522,
     "status": "ok",
     "timestamp": 1678573294336,
     "user": {
      "displayName": "Ольга Нарушинська",
      "userId": "17109802701742785659"
     },
     "user_tz": -120
    },
    "id": "j_QDpYsuwUBH",
    "outputId": "5f76f499-62b2-423d-8144-e093e385d34c",
    "scrolled": true
   },
   "outputs": [
    {
     "name": "stdout",
     "output_type": "stream",
     "text": [
      "training  LogisticRegression\n",
      "test set metrics: \n",
      "               precision    recall  f1-score   support\n",
      "\n",
      "           0       0.85      0.66      0.74     10895\n",
      "           1       0.39      0.66      0.49      3564\n",
      "\n",
      "    accuracy                           0.66     14459\n",
      "   macro avg       0.62      0.66      0.62     14459\n",
      "weighted avg       0.74      0.66      0.68     14459\n",
      "\n",
      "validation set metrics: \n",
      "                precision    recall  f1-score   support\n",
      "\n",
      "           0       0.85      0.67      0.75     10824\n",
      "           1       0.40      0.65      0.49      3635\n",
      "\n",
      "    accuracy                           0.66     14459\n",
      "   macro avg       0.62      0.66      0.62     14459\n",
      "weighted avg       0.74      0.66      0.68     14459\n",
      "\n",
      "training  KNeighborsClassifier\n",
      "test set metrics: \n",
      "               precision    recall  f1-score   support\n",
      "\n",
      "           0       0.85      0.91      0.88     10895\n",
      "           1       0.65      0.50      0.57      3564\n",
      "\n",
      "    accuracy                           0.81     14459\n",
      "   macro avg       0.75      0.71      0.72     14459\n",
      "weighted avg       0.80      0.81      0.80     14459\n",
      "\n",
      "validation set metrics: \n",
      "                precision    recall  f1-score   support\n",
      "\n",
      "           0       0.85      0.91      0.88     10824\n",
      "           1       0.65      0.52      0.58      3635\n",
      "\n",
      "    accuracy                           0.81     14459\n",
      "   macro avg       0.75      0.71      0.73     14459\n",
      "weighted avg       0.80      0.81      0.80     14459\n",
      "\n"
     ]
    }
   ],
   "source": [
    "classifiers = dict()\n",
    "for name, model in models.items():\n",
    "    print('training ',name)\n",
    "    classifier = model\n",
    "    classifier.fit(X_train, y_train)\n",
    "    y_pred = classifier.predict(X_test)\n",
    "    print('test set metrics: \\n', metrics.classification_report(y_test, y_pred))\n",
    "    y_pred = classifier.predict(X_valid)\n",
    "    print('validation set metrics: \\n ', metrics.classification_report(y_valid, y_pred))\n",
    "    classifiers[name] = classifier\n"
   ]
  },
  {
   "cell_type": "markdown",
   "metadata": {
    "id": "8d3PZ--BwUBI"
   },
   "source": [
    "# K-fold validation"
   ]
  },
  {
   "cell_type": "markdown",
   "metadata": {
    "id": "dXVjAgWDwUBI"
   },
   "source": [
    "When evaluating different settings (“hyperparameters”) for estimators, such as the C setting that must be manually set for an SVM, there is still a risk of overfitting on the test set because the parameters can be tweaked until the estimator performs optimally. This way, knowledge about the test set can “leak” into the model and evaluation metrics no longer report on generalization performance. To solve this problem, yet another part of the dataset can be held out as a so-called “validation set”: training proceeds on the training set, after which evaluation is done on the validation set, and when the experiment seems to be successful, final evaluation can be done on the test set.\n",
    "\n",
    "However, by partitioning the available data into three sets, we drastically reduce the number of samples which can be used for learning the model, and the results can depend on a particular random choice for the pair of (train, validation) sets.\n",
    "\n",
    "A solution to this problem is a procedure called cross-validation (CV for short). A test set should still be held out for final evaluation, but the validation set is no longer needed when doing CV. In the basic approach, called k-fold CV, the training set is split into k smaller sets (other approaches are described below, but generally follow the same principles). The following procedure is followed for each of the k “folds”:\n",
    "\n"
   ]
  },
  {
   "cell_type": "markdown",
   "metadata": {
    "id": "0HEiM8uAwUBI"
   },
   "source": [
    "![title](image/k_fold.jpg)"
   ]
  },
  {
   "cell_type": "code",
   "execution_count": 10,
   "metadata": {
    "id": "VGjIIaXDwUBI",
    "outputId": "365797f7-2362-4ae1-e694-655c7944b5b7",
    "scrolled": true
   },
   "outputs": [
    {
     "name": "stdout",
     "output_type": "stream",
     "text": [
      "k-fold set metrics:\n",
      "                precision    recall  f1-score   support\n",
      "\n",
      "           0       0.85      0.68      0.76     17456\n",
      "           1       0.39      0.64      0.49      5678\n",
      "\n",
      "    accuracy                           0.67     23134\n",
      "   macro avg       0.62      0.66      0.62     23134\n",
      "weighted avg       0.74      0.67      0.69     23134\n",
      "\n",
      "k-fold set metrics:\n",
      "                precision    recall  f1-score   support\n",
      "\n",
      "           0       0.85      0.67      0.75     17394\n",
      "           1       0.40      0.65      0.49      5740\n",
      "\n",
      "    accuracy                           0.67     23134\n",
      "   macro avg       0.62      0.66      0.62     23134\n",
      "weighted avg       0.74      0.67      0.69     23134\n",
      "\n",
      "k-fold set metrics:\n",
      "                precision    recall  f1-score   support\n",
      "\n",
      "           0       0.85      0.68      0.76     17395\n",
      "           1       0.40      0.65      0.49      5739\n",
      "\n",
      "    accuracy                           0.67     23134\n",
      "   macro avg       0.63      0.66      0.63     23134\n",
      "weighted avg       0.74      0.67      0.69     23134\n",
      "\n",
      "k-fold set metrics:\n",
      "                precision    recall  f1-score   support\n",
      "\n",
      "           0       0.85      0.67      0.75     17323\n",
      "           1       0.40      0.66      0.50      5811\n",
      "\n",
      "    accuracy                           0.66     23134\n",
      "   macro avg       0.63      0.66      0.62     23134\n",
      "weighted avg       0.74      0.66      0.68     23134\n",
      "\n",
      "k-fold set metrics:\n",
      "                precision    recall  f1-score   support\n",
      "\n",
      "           0       0.86      0.67      0.75     17501\n",
      "           1       0.39      0.65      0.48      5632\n",
      "\n",
      "    accuracy                           0.66     23133\n",
      "   macro avg       0.62      0.66      0.62     23133\n",
      "weighted avg       0.74      0.66      0.69     23133\n",
      "\n",
      "test set metrics:\n",
      "                precision    recall  f1-score   support\n",
      "\n",
      "           0       0.85      0.67      0.75     10895\n",
      "           1       0.39      0.65      0.49      3564\n",
      "\n",
      "    accuracy                           0.66     14459\n",
      "   macro avg       0.62      0.66      0.62     14459\n",
      "weighted avg       0.74      0.66      0.69     14459\n",
      "\n"
     ]
    }
   ],
   "source": [
    "from numpy import array\n",
    "from sklearn.model_selection import KFold\n",
    "\n",
    "\n",
    "# split train/test data\n",
    "X_train, X_rem, y_train, y_rem = train_test_split(X,y, train_size=0.8)\n",
    "\n",
    "\n",
    "# prepare cross validation\n",
    "kfold = KFold(n_splits=5, shuffle=True, random_state=42)\n",
    "# enumerate splits\n",
    "for train, test in kfold.split(X_train):\n",
    "    classifier = LogisticRegression(class_weight='balanced')\n",
    "    classifier.fit(X_train.iloc[train], y_train.iloc[train])\n",
    "    y_pred = classifier.predict(X_train.iloc[test])\n",
    "    print('k-fold set metrics:\\n ', metrics.classification_report(y_train.iloc[test], y_pred))\n",
    "\n",
    "y_pred = classifier.predict(X_test)    \n",
    "print('test set metrics:\\n ', metrics.classification_report(y_test, y_pred))\n"
   ]
  },
  {
   "cell_type": "markdown",
   "metadata": {
    "id": "e2P4KbnDwUBJ"
   },
   "source": [
    "# Random permutations cross-validation"
   ]
  },
  {
   "cell_type": "markdown",
   "metadata": {
    "id": "PNLM6GOXwUBJ"
   },
   "source": [
    "The ShuffleSplit iterator will generate a user defined number of independent train / test dataset splits. Samples are first shuffled and then split into a pair of train and test sets.\n",
    "\n",
    "It is possible to control the randomness for reproducibility of the results by explicitly seeding the random_state pseudo random number generator.\n",
    "\n"
   ]
  },
  {
   "cell_type": "code",
   "execution_count": 11,
   "metadata": {
    "colab": {
     "base_uri": "https://localhost:8080/"
    },
    "executionInfo": {
     "elapsed": 67406,
     "status": "ok",
     "timestamp": 1678573508259,
     "user": {
      "displayName": "Ольга Нарушинська",
      "userId": "17109802701742785659"
     },
     "user_tz": -120
    },
    "id": "boZYJIYfwUBK",
    "outputId": "345c7dfd-fda7-4eb7-960e-265c844ac54a",
    "scrolled": true
   },
   "outputs": [
    {
     "name": "stdout",
     "output_type": "stream",
     "text": [
      "k-fold set metrics:\n",
      "                precision    recall  f1-score   support\n",
      "\n",
      "           0       0.86      0.68      0.76     21817\n",
      "           1       0.40      0.66      0.49      7101\n",
      "\n",
      "    accuracy                           0.67     28918\n",
      "   macro avg       0.63      0.67      0.63     28918\n",
      "weighted avg       0.74      0.67      0.69     28918\n",
      "\n",
      "k-fold set metrics:\n",
      "                precision    recall  f1-score   support\n",
      "\n",
      "           0       0.85      0.66      0.75     21844\n",
      "           1       0.38      0.65      0.48      7074\n",
      "\n",
      "    accuracy                           0.66     28918\n",
      "   macro avg       0.62      0.65      0.61     28918\n",
      "weighted avg       0.74      0.66      0.68     28918\n",
      "\n",
      "k-fold set metrics:\n",
      "                precision    recall  f1-score   support\n",
      "\n",
      "           0       0.85      0.66      0.74     21876\n",
      "           1       0.38      0.64      0.48      7042\n",
      "\n",
      "    accuracy                           0.66     28918\n",
      "   macro avg       0.61      0.65      0.61     28918\n",
      "weighted avg       0.74      0.66      0.68     28918\n",
      "\n",
      "k-fold set metrics:\n",
      "                precision    recall  f1-score   support\n",
      "\n",
      "           0       0.86      0.67      0.75     21864\n",
      "           1       0.39      0.66      0.49      7054\n",
      "\n",
      "    accuracy                           0.67     28918\n",
      "   macro avg       0.62      0.66      0.62     28918\n",
      "weighted avg       0.74      0.67      0.69     28918\n",
      "\n",
      "k-fold set metrics:\n",
      "                precision    recall  f1-score   support\n",
      "\n",
      "           0       0.85      0.68      0.76     21733\n",
      "           1       0.40      0.65      0.50      7185\n",
      "\n",
      "    accuracy                           0.67     28918\n",
      "   macro avg       0.63      0.66      0.63     28918\n",
      "weighted avg       0.74      0.67      0.69     28918\n",
      "\n"
     ]
    }
   ],
   "source": [
    "from sklearn.model_selection import ShuffleSplit\n",
    "\n",
    "ss = ShuffleSplit(n_splits=5, test_size=0.2, random_state=0)\n",
    "for train_index, test_index in ss.split(X):\n",
    "    classifier = LogisticRegression(class_weight='balanced')\n",
    "    classifier.fit(X.iloc[train_index], y.iloc[train_index])\n",
    "    y_pred = classifier.predict(X.iloc[test_index])\n",
    "    print('k-fold set metrics:\\n ', metrics.classification_report(y.iloc[test_index], y_pred))"
   ]
  },
  {
   "cell_type": "markdown",
   "metadata": {
    "id": "tYKQ85FJwUBK"
   },
   "source": [
    "# Leave-One-Out cross-validator\n",
    "\n",
    "Provides train/test indices to split data in train/test sets. Each sample is used once as a test set (singleton) while the remaining samples form the training set.\n",
    "\n",
    "Note: LeaveOneOut() is equivalent to KFold(n_splits=n) and LeavePOut(p=1) where n is the number of samples.\n",
    "\n",
    "Due to the high number of test sets (which is the same as the number of samples) this cross-validation method can be very costly. For large datasets one should favor KFold, ShuffleSplit or StratifiedKFold."
   ]
  },
  {
   "cell_type": "code",
   "execution_count": 12,
   "metadata": {
    "colab": {
     "base_uri": "https://localhost:8080/"
    },
    "executionInfo": {
     "elapsed": 28059,
     "status": "ok",
     "timestamp": 1678578155967,
     "user": {
      "displayName": "Ольга Нарушинська",
      "userId": "17109802701742785659"
     },
     "user_tz": -120
    },
    "id": "n0w1645awUBL",
    "outputId": "4ab90edc-ee1d-4a31-a3d2-9375a7f70ce5"
   },
   "outputs": [],
   "source": [
    "# from sklearn.model_selection import LeaveOneOut\n",
    "# from sklearn.model_selection import cross_val_score\n",
    "# from sklearn.ensemble import RandomForestClassifier\n",
    "\n",
    "# print(X.shape, y.shape)\n",
    "# # create loocv procedure\n",
    "# cv = LeaveOneOut()\n",
    "# # create model\n",
    "# model = LogisticRegression(class_weight='balanced')\n",
    "# # evaluate model\n",
    "# scores = cross_val_score(model, X, y, scoring='accuracy', cv=cv)\n",
    "# # report performance\n",
    "# print('Accuracy: %.3f (%.3f)' % (np.mean(scores), np.std(scores)))"
   ]
  },
  {
   "cell_type": "markdown",
   "metadata": {
    "id": "W39tw1Y7wUBL"
   },
   "source": [
    "# Group k-fold"
   ]
  },
  {
   "cell_type": "markdown",
   "metadata": {
    "id": "mDVOyLrowUBL"
   },
   "source": [
    "GroupKFold is a variation of k-fold which ensures that the same group is not represented in both testing and training sets. For example if the data is obtained from different subjects with several samples per-subject and if the model is flexible enough to learn from highly person specific features it could fail to generalize to new subjects. GroupKFold makes it possible to detect this kind of overfitting situations.\n",
    "\n",
    "Imagine you have three subjects, each with an associated number from 1 to 3:"
   ]
  },
  {
   "cell_type": "markdown",
   "metadata": {
    "id": "ehTNn9xZwUBM"
   },
   "source": [
    "![title](GroupKFold.png)"
   ]
  },
  {
   "cell_type": "code",
   "execution_count": 13,
   "metadata": {},
   "outputs": [
    {
     "data": {
      "text/plain": [
       "array([758, 552, 834, 587, 602, 864, 860, 863, 580, 788, 723, 501, 884,\n",
       "       520, 773, 685, 846, 534, 629, 688, 668, 692, 620, 533, 518, 812,\n",
       "       647, 683, 705, 701, 591, 889, 651, 716, 780, 799, 766, 868, 765,\n",
       "       673, 876, 886, 772, 640, 798, 858, 543, 555, 603, 808, 519, 786,\n",
       "       769, 556, 567, 632, 818, 584, 750, 838, 741, 820, 665, 783, 663,\n",
       "       612, 739, 571, 870, 793, 804, 801, 711, 634, 764, 865, 593, 511,\n",
       "       774, 644, 732, 586, 642, 872, 898, 734, 639, 506, 664, 670, 577,\n",
       "       857, 653, 595, 787, 560, 613, 514, 867, 717, 619, 600, 524, 883,\n",
       "       503, 887, 604, 648, 797, 806, 845, 815, 585, 729, 538, 791, 671,\n",
       "       755, 760, 578, 836, 777, 667, 880, 568, 805, 590, 892, 540, 869,\n",
       "       737, 831, 608, 803, 795, 674, 781, 545, 796, 660, 850, 851, 794,\n",
       "       866, 611, 621, 862, 829, 848, 733, 700, 633, 702, 882, 686, 652,\n",
       "       844, 649, 557, 761, 569, 523, 740, 638, 690, 616, 782, 601, 809,\n",
       "       855, 768, 627, 854, 762, 746, 592, 697, 710, 522, 789, 693, 597,\n",
       "       680, 575, 694, 581, 678, 714, 871, 800, 853, 718, 713, 874, 625,\n",
       "       626, 500, 695, 517, 759, 792, 822, 516, 704, 605, 539, 598, 763,\n",
       "       515, 529, 830, 551, 715, 802, 879, 743, 572, 699, 617, 661, 896,\n",
       "       856, 656, 875, 778, 775, 785, 779, 565, 753, 852, 719, 744, 770,\n",
       "       614, 888, 547, 728, 618, 574, 505, 807, 703, 814, 843, 635, 824,\n",
       "       559, 837, 847, 885, 630, 589, 654, 724, 527, 738, 811, 546, 537,\n",
       "       594, 658, 583, 666, 742, 512, 508, 877, 706, 727, 698, 609, 623,\n",
       "       544, 645, 657, 712, 513, 771, 736, 536, 828, 588, 730, 731, 646,\n",
       "       563, 525, 784, 752, 756, 833, 561, 570, 899, 890, 720, 722, 526,\n",
       "       553, 596, 549, 709, 735, 776, 881, 669, 726, 535, 745, 636, 684,\n",
       "       827, 672, 573, 816, 893, 707, 607, 817, 873, 810, 679, 558, 624,\n",
       "       825, 708, 502, 659, 757, 599, 749, 894, 541, 675, 615, 641, 682,\n",
       "       628, 582, 832, 550, 528, 509, 821, 849, 691, 826, 662, 504, 676,\n",
       "       579, 900, 689, 622, 767, 721, 835, 532, 751, 725, 748, 610, 754,\n",
       "       878, 823, 562, 548, 631, 637, 606, 530, 687, 564, 696, 819, 839,\n",
       "       840, 747, 681, 861, 566, 891, 790, 897, 542, 813, 859, 650, 842,\n",
       "       521, 841, 531, 643, 655, 507, 576, 510, 554, 895, 677])"
      ]
     },
     "execution_count": 13,
     "metadata": {},
     "output_type": "execute_result"
    }
   ],
   "source": [
    "X['Credit_Score'].unique()"
   ]
  },
  {
   "cell_type": "code",
   "execution_count": 31,
   "metadata": {
    "colab": {
     "base_uri": "https://localhost:8080/"
    },
    "executionInfo": {
     "elapsed": 98047,
     "status": "ok",
     "timestamp": 1678576622331,
     "user": {
      "displayName": "Ольга Нарушинська",
      "userId": "17109802701742785659"
     },
     "user_tz": -120
    },
    "id": "zRTy0P-wwUBN",
    "outputId": "623ee9b6-cfab-4c32-9b66-54f5918bd7f7",
    "scrolled": true
   },
   "outputs": [
    {
     "name": "stdout",
     "output_type": "stream",
     "text": [
      "Uniq CreditScore for test \n",
      " [552 534 692 620 705 591 798 741 804 664 613 797 836 540 795 866 700 597\n",
      " 800 625 763 715 572 856 547 618 630 589 811 583 666 588 730 570 720 722\n",
      " 881 726 749 675 628 582 832 550 528 509 821 826 532 725 610 754 819 566\n",
      " 891 841 507]\n",
      "k-fold set metrics: \n",
      "               precision    recall  f1-score   support\n",
      "\n",
      "           0       0.86      0.67      0.75     15509\n",
      "           1       0.39      0.66      0.49      5058\n",
      "\n",
      "    accuracy                           0.67     20567\n",
      "   macro avg       0.63      0.66      0.62     20567\n",
      "weighted avg       0.74      0.67      0.69     20567\n",
      "\n",
      "Uniq CreditScore for test \n",
      " [602 580 889 716 766 640 603 567 632 750 838 711 865 593 872 670 867 648\n",
      " 585 791 667 568 590 831 781 794 829 768 746 697 680 718 713 626 879 743\n",
      " 565 728 837 594 623 736 833 553 669 816 893 825 599 641 682 849 748 631\n",
      " 542 859 650 521]\n",
      "k-fold set metrics: \n",
      "               precision    recall  f1-score   support\n",
      "\n",
      "           0       0.86      0.66      0.75     15750\n",
      "           1       0.39      0.66      0.49      5129\n",
      "\n",
      "    accuracy                           0.66     20879\n",
      "   macro avg       0.62      0.66      0.62     20879\n",
      "weighted avg       0.74      0.66      0.68     20879\n",
      "\n",
      "Uniq CreditScore for test \n",
      " [863 788 773 518 683 799 772 555 769 818 739 571 642 898 734 639 857 787\n",
      " 883 503 887 604 538 869 851 652 740 638 782 601 855 854 710 693 517 516\n",
      " 598 802 661 656 753 847 544 645 596 573 873 659 894 662 504 687 839 747\n",
      " 861 510 895]\n",
      "k-fold set metrics: \n",
      "               precision    recall  f1-score   support\n",
      "\n",
      "           0       0.85      0.66      0.75     15515\n",
      "           1       0.39      0.65      0.48      5051\n",
      "\n",
      "    accuracy                           0.66     20566\n",
      "   macro avg       0.62      0.66      0.62     20566\n",
      "weighted avg       0.74      0.66      0.68     20566\n",
      "\n",
      "Uniq CreditScore for test \n",
      " [834 501 884 520 668 780 886 519 786 870 506 600 729 777 608 803 545 660\n",
      " 633 882 844 761 592 522 789 575 581 871 874 500 529 830 875 744 614 574\n",
      " 885 724 738 546 512 508 706 657 563 817 708 502 541 691 689 767 823 637\n",
      " 790 842 677]\n",
      "k-fold set metrics: \n",
      "               precision    recall  f1-score   support\n",
      "\n",
      "           0       0.86      0.67      0.75     15473\n",
      "           1       0.39      0.66      0.49      5093\n",
      "\n",
      "    accuracy                           0.67     20566\n",
      "   macro avg       0.63      0.66      0.62     20566\n",
      "weighted avg       0.74      0.67      0.69     20566\n",
      "\n",
      "Uniq CreditScore for test \n",
      " [860 533 765 820 801 634 511 774 586 619 524 806 815 755 760 880 892 737\n",
      " 674 686 649 523 690 714 822 515 699 785 779 770 888 505 703 814 559 527\n",
      " 877 727 698 609 712 513 771 536 828 646 752 756 535 672 607 558 624 900\n",
      " 721 548 530 840]\n",
      "k-fold set metrics: \n",
      "               precision    recall  f1-score   support\n",
      "\n",
      "           0       0.85      0.66      0.74     15722\n",
      "           1       0.39      0.65      0.48      5155\n",
      "\n",
      "    accuracy                           0.66     20877\n",
      "   macro avg       0.62      0.66      0.61     20877\n",
      "weighted avg       0.74      0.66      0.68     20877\n",
      "\n",
      "Uniq CreditScore for test \n",
      " [723 846 651 673 876 543 808 584 783 793 644 732 577 595 560 845 671 850\n",
      " 862 848 733 702 557 569 616 809 694 678 695 759 704 539 551 617 896 775\n",
      " 635 742 731 784 526 549 709 745 636 827 707 810 835 751 562 606 696 681\n",
      " 643 655 554]\n",
      "k-fold set metrics: \n",
      "               precision    recall  f1-score   support\n",
      "\n",
      "           0       0.85      0.66      0.75     15433\n",
      "           1       0.39      0.66      0.49      5132\n",
      "\n",
      "    accuracy                           0.66     20565\n",
      "   macro avg       0.62      0.66      0.62     20565\n",
      "weighted avg       0.74      0.66      0.68     20565\n",
      "\n",
      "Uniq CreditScore for test \n",
      " [758 587 864 685 629 688 812 647 701 868 858 556 665 663 612 764 653 514\n",
      " 717 578 805 796 611 621 627 762 853 792 605 778 852 719 807 843 824 654\n",
      " 537 658 525 561 899 890 735 776 684 679 757 615 676 579 622 878 564 897\n",
      " 813 531 576]\n",
      "k-fold set metrics: \n",
      "               precision    recall  f1-score   support\n",
      "\n",
      "           0       0.85      0.66      0.74     15511\n",
      "           1       0.38      0.66      0.48      5056\n",
      "\n",
      "    accuracy                           0.66     20567\n",
      "   macro avg       0.62      0.66      0.61     20567\n",
      "weighted avg       0.74      0.66      0.68     20567\n",
      "\n"
     ]
    }
   ],
   "source": [
    "from sklearn.model_selection import GroupKFold\n",
    "\n",
    "gkf = GroupKFold(n_splits=7)\n",
    "for train_index, test_index in gkf.split(X, y, groups=X['Credit_Score']):\n",
    "    print('Uniq CreditScore for test \\n',X.iloc[test_index]['Credit_Score'].unique())\n",
    "    classifier = LogisticRegression(class_weight='balanced')\n",
    "    classifier.fit(X.iloc[train_index], y.iloc[train_index])\n",
    "    y_pred = classifier.predict(X.iloc[test_index])\n",
    "    print('k-fold set metrics: \\n', metrics.classification_report(y.iloc[test_index], y_pred))"
   ]
  },
  {
   "cell_type": "markdown",
   "metadata": {
    "id": "oHYpIYbawUBO"
   },
   "source": [
    "# Validation metrics"
   ]
  },
  {
   "cell_type": "markdown",
   "metadata": {
    "id": "hxBIniB6wUBO"
   },
   "source": [
    "## Classification metrics"
   ]
  },
  {
   "cell_type": "markdown",
   "metadata": {
    "id": "t1h22QppwUBO"
   },
   "source": [
    "#### Define target and features columns"
   ]
  },
  {
   "cell_type": "code",
   "execution_count": 15,
   "metadata": {
    "executionInfo": {
     "elapsed": 5,
     "status": "ok",
     "timestamp": 1678576622331,
     "user": {
      "displayName": "Ольга Нарушинська",
      "userId": "17109802701742785659"
     },
     "user_tz": -120
    },
    "id": "469_f5P0wUBO"
   },
   "outputs": [],
   "source": [
    "y_column = ['Status'] # target variable\n",
    "X_columns = ['loan_limit', 'Gender', 'approv_in_adv', 'loan_type', 'loan_purpose', 'Credit_Worthiness', 'open_credit', \n",
    "             'business_or_commercial', 'loan_amount', 'rate_of_interest', 'Interest_rate_spread', 'Upfront_charges', 'term', \n",
    "             'Neg_ammortization', 'interest_only', 'lump_sum_payment', 'property_value', 'construction_type', \n",
    "             'occupancy_type', 'Secured_by', 'total_units', 'income', 'credit_type', 'Credit_Score', 'co-applicant_credit_type', \n",
    "             'age', 'submission_of_application', 'LTV', 'Region', 'Security_Type',]\n",
    "\n",
    "X = df[X_columns]\n",
    "y = df[y_column]"
   ]
  },
  {
   "cell_type": "markdown",
   "metadata": {
    "id": "IIRtU0oZwUBO"
   },
   "source": [
    "#### Train test set split"
   ]
  },
  {
   "cell_type": "code",
   "execution_count": 16,
   "metadata": {
    "executionInfo": {
     "elapsed": 6,
     "status": "ok",
     "timestamp": 1678576622332,
     "user": {
      "displayName": "Ольга Нарушинська",
      "userId": "17109802701742785659"
     },
     "user_tz": -120
    },
    "id": "xm0l-YPowUBP"
   },
   "outputs": [],
   "source": [
    "X_train, X_test, y_train, y_test = train_test_split(X, y, test_size=0.2, random_state=42)"
   ]
  },
  {
   "cell_type": "markdown",
   "metadata": {
    "id": "Rmw11DPbwUBP"
   },
   "source": [
    "### Confusion matrix"
   ]
  },
  {
   "cell_type": "markdown",
   "metadata": {
    "id": "1nJVjW-MwUBP"
   },
   "source": [
    "The confusion_matrix function evaluates classification accuracy by computing the confusion matrix with each row corresponding to the true class (Wikipedia and other references may use different convention for axes).\n",
    "\n",
    "By definition, entry  in a confusion matrix is the number of observations actually in group , but predicted to be in group . Here is an example:"
   ]
  },
  {
   "cell_type": "code",
   "execution_count": 17,
   "metadata": {
    "executionInfo": {
     "elapsed": 5,
     "status": "ok",
     "timestamp": 1678576622332,
     "user": {
      "displayName": "Ольга Нарушинська",
      "userId": "17109802701742785659"
     },
     "user_tz": -120
    },
    "id": "3Qtqxk2DwUBP"
   },
   "outputs": [],
   "source": [
    "from sklearn.tree import DecisionTreeClassifier\n",
    "from sklearn.metrics import confusion_matrix\n",
    "from sklearn.metrics import ConfusionMatrixDisplay"
   ]
  },
  {
   "cell_type": "code",
   "execution_count": 18,
   "metadata": {
    "colab": {
     "base_uri": "https://localhost:8080/",
     "height": 331
    },
    "executionInfo": {
     "elapsed": 1265,
     "status": "ok",
     "timestamp": 1678576623592,
     "user": {
      "displayName": "Ольга Нарушинська",
      "userId": "17109802701742785659"
     },
     "user_tz": -120
    },
    "id": "0WGBhkRxwUBP",
    "outputId": "5d83284b-c80f-4575-9a38-e9f9da26824e"
   },
   "outputs": [
    {
     "name": "stdout",
     "output_type": "stream",
     "text": [
      "[[14456  7422]\n",
      " [ 2384  4656]]\n"
     ]
    },
    {
     "data": {
      "text/plain": [
       "<sklearn.metrics._plot.confusion_matrix.ConfusionMatrixDisplay at 0x1a266a58800>"
      ]
     },
     "execution_count": 18,
     "metadata": {},
     "output_type": "execute_result"
    },
    {
     "data": {
      "image/png": "[encoded data removed]",
      "text/plain": [
       "<Figure size 640x480 with 2 Axes>"
      ]
     },
     "metadata": {},
     "output_type": "display_data"
    }
   ],
   "source": [
    "dt_classifier = LogisticRegression(class_weight='balanced')\n",
    "dt_classifier.fit(X_train, y_train)\n",
    "y_pred = dt_classifier.predict(X_test)\n",
    "conf_matrix = metrics.confusion_matrix(y_test, y_pred)\n",
    "print(conf_matrix)\n",
    "disp = ConfusionMatrixDisplay(conf_matrix)\n",
    "disp.plot()"
   ]
  },
  {
   "cell_type": "markdown",
   "metadata": {
    "id": "z0cabUPLwUBQ"
   },
   "source": [
    "### Accuracy "
   ]
  },
  {
   "cell_type": "markdown",
   "metadata": {
    "id": "9ikTy12UwUBQ"
   },
   "source": [
    "Classification Accuracy is what we usually mean, when we use the term accuracy. It is the ratio of number of correct predictions to the total number of input samples."
   ]
  },
  {
   "cell_type": "markdown",
   "metadata": {
    "id": "gawM6VD0wUBQ"
   },
   "source": [
    "It works well only if there are equal number of samples belonging to each class.\n",
    "For example, consider that there are 98% samples of class A and 2% samples of class B in our training set. Then our model can easily get 98% training accuracy by simply predicting every training sample belonging to class A.\n",
    "When the same model is tested on a test set with 60% samples of class A and 40% samples of class B, then the test accuracy would drop down to 60%. Classification Accuracy is great, but gives us the false sense of achieving high accuracy.\n",
    "The real problem arises, when the cost of misclassification of the minor class samples are very high. If we deal with a rare but fatal disease, the cost of failing to diagnose the disease of a sick person is much higher than the cost of sending a healthy person to more tests"
   ]
  },
  {
   "cell_type": "code",
   "execution_count": 19,
   "metadata": {
    "executionInfo": {
     "elapsed": 5,
     "status": "ok",
     "timestamp": 1678576623593,
     "user": {
      "displayName": "Ольга Нарушинська",
      "userId": "17109802701742785659"
     },
     "user_tz": -120
    },
    "id": "T3O8FmJ3wUBQ"
   },
   "outputs": [],
   "source": [
    "from sklearn.metrics import accuracy_score"
   ]
  },
  {
   "cell_type": "code",
   "execution_count": 20,
   "metadata": {
    "colab": {
     "base_uri": "https://localhost:8080/"
    },
    "executionInfo": {
     "elapsed": 1279,
     "status": "ok",
     "timestamp": 1678576624868,
     "user": {
      "displayName": "Ольга Нарушинська",
      "userId": "17109802701742785659"
     },
     "user_tz": -120
    },
    "id": "mnizrnDrwUBR",
    "outputId": "8d49ea01-ab34-4160-ee72-f6ec79ab5887"
   },
   "outputs": [
    {
     "data": {
      "text/plain": [
       "0.6609032436544713"
      ]
     },
     "execution_count": 20,
     "metadata": {},
     "output_type": "execute_result"
    }
   ],
   "source": [
    "dt_classifier = LogisticRegression(class_weight='balanced')\n",
    "dt_classifier.fit(X_train, y_train)\n",
    "y_pred = dt_classifier.predict(X_test)\n",
    "metrics.accuracy_score(y_test, y_pred)\n"
   ]
  },
  {
   "cell_type": "markdown",
   "metadata": {
    "id": "EKpyQSQ6wUBR"
   },
   "source": [
    "### Precision\n",
    "It is the number of correct positive results divided by the number of positive results predicted by the classifier."
   ]
  },
  {
   "cell_type": "markdown",
   "metadata": {
    "id": "fzV1T_luwUBR"
   },
   "source": [
    "![title](image/precission.gif)"
   ]
  },
  {
   "cell_type": "code",
   "execution_count": 21,
   "metadata": {
    "executionInfo": {
     "elapsed": 4,
     "status": "ok",
     "timestamp": 1678576624869,
     "user": {
      "displayName": "Ольга Нарушинська",
      "userId": "17109802701742785659"
     },
     "user_tz": -120
    },
    "id": "aFoJ1FRDwUBS"
   },
   "outputs": [],
   "source": [
    "from sklearn.metrics import precision_score"
   ]
  },
  {
   "cell_type": "code",
   "execution_count": 22,
   "metadata": {
    "colab": {
     "base_uri": "https://localhost:8080/"
    },
    "executionInfo": {
     "elapsed": 1545,
     "status": "ok",
     "timestamp": 1678576626411,
     "user": {
      "displayName": "Ольга Нарушинська",
      "userId": "17109802701742785659"
     },
     "user_tz": -120
    },
    "id": "n1oMcjciwUBS",
    "outputId": "a039caaa-f1d6-4dbf-a61e-6379420488eb"
   },
   "outputs": [
    {
     "data": {
      "text/plain": [
       "np.float64(0.3854942871336314)"
      ]
     },
     "execution_count": 22,
     "metadata": {},
     "output_type": "execute_result"
    }
   ],
   "source": [
    "dt_classifier = LogisticRegression(class_weight='balanced')\n",
    "dt_classifier.fit(X_train, y_train)\n",
    "y_pred = dt_classifier.predict(X_test)\n",
    "metrics.precision_score(y_test, y_pred)\n"
   ]
  },
  {
   "cell_type": "markdown",
   "metadata": {
    "id": "KVbVLsgWwUBS"
   },
   "source": [
    "### Recall\n",
    "It is the number of correct positive results divided by the number of all relevant samples (all samples that should have been identified as positive)."
   ]
  },
  {
   "cell_type": "markdown",
   "metadata": {
    "id": "JRKsES7bwUBS"
   },
   "source": [
    "![title](image/recall.gif)"
   ]
  },
  {
   "cell_type": "code",
   "execution_count": 23,
   "metadata": {
    "executionInfo": {
     "elapsed": 4,
     "status": "ok",
     "timestamp": 1678576626412,
     "user": {
      "displayName": "Ольга Нарушинська",
      "userId": "17109802701742785659"
     },
     "user_tz": -120
    },
    "id": "B0IrmL_ZwUBT"
   },
   "outputs": [],
   "source": [
    "from sklearn.metrics import recall_score"
   ]
  },
  {
   "cell_type": "code",
   "execution_count": 24,
   "metadata": {
    "colab": {
     "base_uri": "https://localhost:8080/"
    },
    "executionInfo": {
     "elapsed": 1420,
     "status": "ok",
     "timestamp": 1678576627829,
     "user": {
      "displayName": "Ольга Нарушинська",
      "userId": "17109802701742785659"
     },
     "user_tz": -120
    },
    "id": "N8tHKH3ywUBT",
    "outputId": "d4bb436c-bd29-4d5f-deb0-0612783987f8"
   },
   "outputs": [
    {
     "data": {
      "text/plain": [
       "np.float64(0.6613636363636364)"
      ]
     },
     "execution_count": 24,
     "metadata": {},
     "output_type": "execute_result"
    }
   ],
   "source": [
    "dt_classifier = LogisticRegression(class_weight='balanced')\n",
    "dt_classifier.fit(X_train, y_train)\n",
    "y_pred = dt_classifier.predict(X_test)\n",
    "metrics.recall_score(y_test, y_pred)\n"
   ]
  },
  {
   "cell_type": "markdown",
   "metadata": {
    "id": "BLGafAXywUBT"
   },
   "source": [
    "### F1 Score\n",
    "F1 Score is the Harmonic Mean between precision and recall. The range for F1 Score is [0, 1]. It tells you how precise your classifier is (how many instances it classifies correctly), as well as how robust it is (it does not miss a significant number of instances).\n",
    "High precision but lower recall, gives you an extremely accurate, but it then misses a large number of instances that are difficult to classify. The greater the F1 Score, the better is the performance of our model. Mathematically, it can be expressed as :"
   ]
  },
  {
   "cell_type": "markdown",
   "metadata": {
    "id": "Dx1bzohqwUBT"
   },
   "source": [
    "![title](image/f1.gif)"
   ]
  },
  {
   "cell_type": "code",
   "execution_count": 25,
   "metadata": {
    "executionInfo": {
     "elapsed": 2,
     "status": "ok",
     "timestamp": 1678576627829,
     "user": {
      "displayName": "Ольга Нарушинська",
      "userId": "17109802701742785659"
     },
     "user_tz": -120
    },
    "id": "Qi2IXmHWwUBU"
   },
   "outputs": [],
   "source": [
    "from sklearn.metrics import f1_score"
   ]
  },
  {
   "cell_type": "code",
   "execution_count": 26,
   "metadata": {
    "colab": {
     "base_uri": "https://localhost:8080/"
    },
    "executionInfo": {
     "elapsed": 1680,
     "status": "ok",
     "timestamp": 1678576629507,
     "user": {
      "displayName": "Ольга Нарушинська",
      "userId": "17109802701742785659"
     },
     "user_tz": -120
    },
    "id": "rH4gIm-DwUBU",
    "outputId": "d5b37095-c78c-4dfe-dde9-ab80bac3c162"
   },
   "outputs": [
    {
     "data": {
      "text/plain": [
       "np.float64(0.4870802385186735)"
      ]
     },
     "execution_count": 26,
     "metadata": {},
     "output_type": "execute_result"
    }
   ],
   "source": [
    "dt_classifier = LogisticRegression(class_weight='balanced')\n",
    "dt_classifier.fit(X_train, y_train)\n",
    "y_pred = dt_classifier.predict(X_test)\n",
    "metrics.f1_score(y_test, y_pred)\n"
   ]
  },
  {
   "cell_type": "markdown",
   "metadata": {
    "id": "0k1IM_RswUBU"
   },
   "source": [
    "### Area Under Curve(AUC)\n",
    "Area Under Curve(AUC) is one of the most widely used metrics for evaluation. It is used for binary classification problem. AUC of a classifier is equal to the probability that the classifier will rank a randomly chosen positive example higher than a randomly chosen negative example. Before defining AUC, let us understand two basic terms.\n",
    "\n",
    "The function roc_curve computes the receiver operating characteristic curve, or ROC curve. Quoting Wikipedia :\n",
    "\n",
    "“A receiver operating characteristic (ROC), or simply ROC curve, is a graphical plot which illustrates the performance of a binary classifier system as its discrimination threshold is varied. It is created by plotting the fraction of true positives out of the positives (TPR = true positive rate) vs. the fraction of false positives out of the negatives (FPR = false positive rate), at various threshold settings. TPR is also known as sensitivity, and FPR is one minus the specificity or true negative rate.”\n",
    "\n",
    "This function requires the true binary value and the target scores, which can either be probability estimates of the positive class, confidence values, or binary decisions. Here is a small example of how to use the roc_curve function:"
   ]
  },
  {
   "cell_type": "code",
   "execution_count": 27,
   "metadata": {
    "executionInfo": {
     "elapsed": 1100,
     "status": "ok",
     "timestamp": 1678576630605,
     "user": {
      "displayName": "Ольга Нарушинська",
      "userId": "17109802701742785659"
     },
     "user_tz": -120
    },
    "id": "9KQ9w4OkwUBU"
   },
   "outputs": [],
   "source": [
    "import numpy as np\n",
    "from sklearn.metrics import roc_curve\n",
    "from sklearn.metrics import auc\n",
    "\n",
    "dt_classifier = LogisticRegression(class_weight='balanced')\n",
    "dt_classifier.fit(X_train, y_train)\n",
    "y_pred = dt_classifier.predict(X_test)\n",
    "\n",
    "fpr, tpr, thresholds = roc_curve(y_test, y_pred)\n",
    "roc_auc = auc(fpr, tpr)\n"
   ]
  },
  {
   "cell_type": "code",
   "execution_count": 28,
   "metadata": {
    "colab": {
     "base_uri": "https://localhost:8080/"
    },
    "executionInfo": {
     "elapsed": 5,
     "status": "ok",
     "timestamp": 1678576630606,
     "user": {
      "displayName": "Ольга Нарушинська",
      "userId": "17109802701742785659"
     },
     "user_tz": -120
    },
    "id": "acNiwUbpwUBV",
    "outputId": "71c48268-8f94-4046-9eda-1b536fd275b6"
   },
   "outputs": [
    {
     "data": {
      "text/plain": [
       "np.float64(0.6610593664037764)"
      ]
     },
     "execution_count": 28,
     "metadata": {},
     "output_type": "execute_result"
    }
   ],
   "source": [
    "roc_auc"
   ]
  },
  {
   "cell_type": "code",
   "execution_count": 29,
   "metadata": {
    "colab": {
     "base_uri": "https://localhost:8080/",
     "height": 295
    },
    "executionInfo": {
     "elapsed": 646,
     "status": "ok",
     "timestamp": 1678576631249,
     "user": {
      "displayName": "Ольга Нарушинська",
      "userId": "17109802701742785659"
     },
     "user_tz": -120
    },
    "id": "Ci7GckC3wUBV",
    "outputId": "ac76e5bb-2386-4e92-dde0-2ed857655b71"
   },
   "outputs": [
    {
     "data": {
      "image/png": "[encoded data removed]",
      "text/plain": [
       "<Figure size 640x480 with 1 Axes>"
      ]
     },
     "metadata": {},
     "output_type": "display_data"
    }
   ],
   "source": [
    "# method I: plt\n",
    "import matplotlib.pyplot as plt\n",
    "plt.title('Receiver Operating Characteristic')\n",
    "plt.plot(fpr, tpr, 'b', label = 'AUC = %0.2f' % roc_auc)\n",
    "plt.legend(loc = 'lower right')\n",
    "plt.plot([0, 1], [0, 1],'r--')\n",
    "plt.xlim([0, 1])\n",
    "plt.ylim([0, 1])\n",
    "plt.ylabel('True Positive Rate')\n",
    "plt.xlabel('False Positive Rate')\n",
    "plt.show()"
   ]
  },
  {
   "cell_type": "markdown",
   "metadata": {
    "id": "y8xgODl0wUBV"
   },
   "source": [
    "##### The classification_report function builds a text report showing the main classification metrics. "
   ]
  },
  {
   "cell_type": "code",
   "execution_count": 30,
   "metadata": {
    "colab": {
     "base_uri": "https://localhost:8080/"
    },
    "executionInfo": {
     "elapsed": 711,
     "status": "ok",
     "timestamp": 1678576631956,
     "user": {
      "displayName": "Ольга Нарушинська",
      "userId": "17109802701742785659"
     },
     "user_tz": -120
    },
    "id": "a1IpgcoUwUBW",
    "outputId": "d4ec561a-bc69-4194-c011-75aff5b16b74"
   },
   "outputs": [
    {
     "name": "stdout",
     "output_type": "stream",
     "text": [
      "              precision    recall  f1-score   support\n",
      "\n",
      "           0       0.86      0.66      0.75     21878\n",
      "           1       0.39      0.66      0.49      7040\n",
      "\n",
      "    accuracy                           0.66     28918\n",
      "   macro avg       0.62      0.66      0.62     28918\n",
      "weighted avg       0.74      0.66      0.68     28918\n",
      "\n"
     ]
    }
   ],
   "source": [
    "dt_classifier = LogisticRegression(class_weight='balanced')\n",
    "dt_classifier.fit(X_train, y_train)\n",
    "y_pred = dt_classifier.predict(X_test)\n",
    "print(metrics.classification_report(y_test, y_pred))"
   ]
  }
 ],
 "metadata": {
  "colab": {
   "provenance": []
  },
  "kernelspec": {
   "display_name": "Python 3 (ipykernel)",
   "language": "python",
   "name": "python3"
  },
  "language_info": {
   "codemirror_mode": {
    "name": "ipython",
    "version": 3
   },
   "file_extension": ".py",
   "mimetype": "text/x-python",
   "name": "python",
   "nbconvert_exporter": "python",
   "pygments_lexer": "ipython3",
   "version": "3.12.6"
  },
  "vscode": {
   "interpreter": {
    "hash": "7172106abc92638029cd8423ee47f98336618e2f42ec4b056b806f415585df73"
   }
  }
 },
 "nbformat": 4,
 "nbformat_minor": 4
}
